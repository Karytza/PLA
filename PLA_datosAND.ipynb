{
 "cells": [
  {
   "cell_type": "code",
   "execution_count": 1,
   "id": "71027375-f345-43ae-9d51-4569be15563c",
   "metadata": {},
   "outputs": [],
   "source": [
    "#Importando librerías\n",
    "import matplotlib.pyplot as plt\n",
    "import numpy as np\n",
    "import pandas as pd"
   ]
  },
  {
   "cell_type": "code",
   "execution_count": 2,
   "id": "5eea97bc-26b0-43e9-8fc0-ccfbf58d6492",
   "metadata": {},
   "outputs": [
    {
     "name": "stdout",
     "output_type": "stream",
     "text": [
      "   X1  X2  Valor\n",
      "0   1   1      1\n",
      "1   1  -1     -1\n",
      "2  -1   1     -1\n",
      "3  -1  -1     -1\n"
     ]
    }
   ],
   "source": [
    "#Abriendo mi archivo de datos\n",
    "dat=open(\"/Users/karytzamontiel/Documents/Maestria UNAM/Machine Learning/Perceptron/datosAND.txt\")\n",
    "df=pd.read_csv(dat,sep=\"\\s+\")\n",
    "df.columns =[\"X1\", \"X2\", \"Valor\"]\n",
    "print(df)"
   ]
  },
  {
   "cell_type": "code",
   "execution_count": 3,
   "id": "975f09c2-1433-4ac3-9f43-31ab7ec6ccfb",
   "metadata": {},
   "outputs": [
    {
     "name": "stdout",
     "output_type": "stream",
     "text": [
      "[ 1  1 -1 -1]\n",
      "[ 1 -1  1 -1]\n",
      "[ 1 -1 -1 -1]\n"
     ]
    }
   ],
   "source": [
    "#Convirtiendo cada columna del dataframe en array\n",
    "x1=np.array (df[\"X1\"])\n",
    "x2=np.array (df[\"X2\"])\n",
    "valor=np.array(df[\"Valor\"]) \n",
    "print(x1)\n",
    "print(x2)\n",
    "print(valor)"
   ]
  },
  {
   "cell_type": "code",
   "execution_count": 4,
   "id": "6c5a73f3-3621-497c-a2e5-84e9793093da",
   "metadata": {},
   "outputs": [],
   "source": [
    "#normalizando datos\n",
    "#normalized_x1 = x1 / np.linalg.norm(x1)\n",
    "#normalized_x2 = x2 / np.linalg.norm(x2)\n",
    "#normalized_valor = valor / np.linalg.norm(valor)\n",
    "\n",
    "\n",
    "#print(normalized_x1)\n",
    "#print(normalized_x2)\n",
    "#print(normalized_valor)\n"
   ]
  },
  {
   "cell_type": "code",
   "execution_count": 5,
   "id": "f40ddcb6-89d0-4701-8008-15ef7ea94d07",
   "metadata": {},
   "outputs": [
    {
     "data": {
      "image/png": "[encoded data removed]",
      "text/plain": [
       "<Figure size 432x288 with 1 Axes>"
      ]
     },
     "metadata": {
      "needs_background": "light"
     },
     "output_type": "display_data"
    }
   ],
   "source": [
    "fig, ax = plt.subplots()\n",
    "\n",
    "#scatter grafica un diagrama de puntos\n",
    "\n",
    "plt.scatter(x1[0], x1[1], color='blue', label=\"Datos x1\")\n",
    "            #,x1[:,1], color='blue', label=\"Datos x1\") \n",
    "plt.scatter(x2[0], x2[1], color='red', label=\"Datos x2\")\n",
    "            #,x2[:,1], color='red', label=\"Datos x2\")\n",
    "plt.title('Conjunto de datos linealmente separables')\n",
    "plt.legend()\n",
    "plt.show()"
   ]
  },
  {
   "cell_type": "markdown",
   "id": "ba230827-9383-4091-bcfd-378e36a45c63",
   "metadata": {},
   "source": [
    "Se puede apreciar que los conjuntos de datos son linealmente separables."
   ]
  },
  {
   "cell_type": "markdown",
   "id": "8ae72750-34c7-4e89-b0f6-9284e01d38e2",
   "metadata": {},
   "source": [
    "Ecuación de la recta que divide ambos conjuntos de datos:\n",
    "\n",
    "y = 0\n",
    "\n",
    "Donde m = 0 y b = 0"
   ]
  },
  {
   "cell_type": "code",
   "execution_count": 6,
   "id": "2ae90cbb-9bdb-4302-9e02-6890047005cd",
   "metadata": {},
   "outputs": [],
   "source": [
    "#Definimos los pesos en cero\n",
    "\n",
    "pesos = [0.00, 0.00]"
   ]
  },
  {
   "cell_type": "code",
   "execution_count": 7,
   "id": "2da1efe1-7ead-44af-866c-1c71caa822a1",
   "metadata": {},
   "outputs": [],
   "source": [
    "#Definimos el bias igual a cero\n",
    "\n",
    "bias = 0"
   ]
  },
  {
   "cell_type": "code",
   "execution_count": 8,
   "id": "680f06ef-946e-4925-9264-6405dd8a82ef",
   "metadata": {},
   "outputs": [],
   "source": [
    "#Definimos la función escalón:\n",
    "    #regresa 1 si la entrada es mayor o igual a 0\n",
    "    #regresa 0 en cualquier otro caso\n",
    "\n",
    "def activacion_fn(x):\n",
    "    return 1 if x >= 0 else 0"
   ]
  },
  {
   "cell_type": "code",
   "execution_count": 9,
   "id": "2d4530dc-094b-4f54-96d9-047def1688a0",
   "metadata": {},
   "outputs": [],
   "source": [
    "#Definimos la función que toma los datos, los pesos, el bias y utilizando la función de activación anteriormente\n",
    "#definida, para dar una predicción de que tipo de dato es.\n",
    "\n",
    "def perceptron(X, pesos, bias):\n",
    "    suma = bias \n",
    "    for i in range(len(pesos)):\n",
    "        suma += X[i] * pesos[i] #Aquí se calcula el producto de cada dato por el peso y se suma el bias\n",
    "    return activacion_fn(suma) #La función de activación determinará el tipo de dato\n",
    "                                #segun el valor de la variable \"suma\". Si \"suma\" es mayor o igual a cero, \n",
    "                                #la función de activación devolverá 1. De lo contrario, va a devolver 0, \n",
    "                                #lo que significa que pertenece a una clase negativa o -1.\n",
    "    "
   ]
  },
  {
   "cell_type": "code",
   "execution_count": 10,
   "id": "ca25cacb-65dd-4670-96bd-f49f05a6e15e",
   "metadata": {},
   "outputs": [],
   "source": [
    "#Definimos las épocas\n",
    "epocas = 100\n",
    "\n",
    "#Definimos la magnitud con la que ajustará los pesos\n",
    "learning_rate = 0.1"
   ]
  },
  {
   "cell_type": "code",
   "execution_count": 11,
   "id": "6065046b-2fd5-4eb2-b297-49a1bfb190fa",
   "metadata": {},
   "outputs": [
    {
     "ename": "IndexError",
     "evalue": "invalid index to scalar variable.",
     "output_type": "error",
     "traceback": [
      "\u001b[0;31m---------------------------------------------------------------------------\u001b[0m",
      "\u001b[0;31mIndexError\u001b[0m                                Traceback (most recent call last)",
      "Input \u001b[0;32mIn [11]\u001b[0m, in \u001b[0;36m<cell line: 2>\u001b[0;34m()\u001b[0m\n\u001b[1;32m      2\u001b[0m \u001b[38;5;28;01mfor\u001b[39;00m _ \u001b[38;5;129;01min\u001b[39;00m \u001b[38;5;28mrange\u001b[39m(epocas):\n\u001b[1;32m      3\u001b[0m    \u001b[38;5;28;01mfor\u001b[39;00m i \u001b[38;5;129;01min\u001b[39;00m \u001b[38;5;28mrange\u001b[39m(\u001b[38;5;28mlen\u001b[39m(x1)):\n\u001b[1;32m      4\u001b[0m         \u001b[38;5;66;03m# Predicción y cálculo del error para el primer conjunto de datos, de aquí se ajustan los pesos segun el error\u001b[39;00m\n\u001b[1;32m      5\u001b[0m         \u001b[38;5;66;03m#Se hacen predicciones para cada uno de los conjuntos de datos\u001b[39;00m\n\u001b[0;32m----> 6\u001b[0m         prediccion1 \u001b[38;5;241m=\u001b[39m \u001b[43mperceptron\u001b[49m\u001b[43m(\u001b[49m\u001b[43mx1\u001b[49m\u001b[43m[\u001b[49m\u001b[43mi\u001b[49m\u001b[43m]\u001b[49m\u001b[43m,\u001b[49m\u001b[43m \u001b[49m\u001b[43mpesos\u001b[49m\u001b[43m,\u001b[49m\u001b[43m \u001b[49m\u001b[43mbias\u001b[49m\u001b[43m)\u001b[49m\n\u001b[1;32m      7\u001b[0m         error1 \u001b[38;5;241m=\u001b[39m valor[i] \u001b[38;5;241m-\u001b[39m prediccion1    \u001b[38;5;66;03m#Se calcula el error comparando el verdadero valor del dato con \u001b[39;00m\n\u001b[1;32m      8\u001b[0m                                             \u001b[38;5;66;03m#la predicción\u001b[39;00m\n",
      "Input \u001b[0;32mIn [9]\u001b[0m, in \u001b[0;36mperceptron\u001b[0;34m(X, pesos, bias)\u001b[0m\n\u001b[1;32m      5\u001b[0m suma \u001b[38;5;241m=\u001b[39m bias \n\u001b[1;32m      6\u001b[0m \u001b[38;5;28;01mfor\u001b[39;00m i \u001b[38;5;129;01min\u001b[39;00m \u001b[38;5;28mrange\u001b[39m(\u001b[38;5;28mlen\u001b[39m(pesos)):\n\u001b[0;32m----> 7\u001b[0m     suma \u001b[38;5;241m+\u001b[39m\u001b[38;5;241m=\u001b[39m \u001b[43mX\u001b[49m\u001b[43m[\u001b[49m\u001b[43mi\u001b[49m\u001b[43m]\u001b[49m \u001b[38;5;241m*\u001b[39m pesos[i] \u001b[38;5;66;03m#Aquí se calcula el producto de cada dato por el peso y se suma el bias\u001b[39;00m\n\u001b[1;32m      8\u001b[0m \u001b[38;5;28;01mreturn\u001b[39;00m activacion_fn(suma)\n",
      "\u001b[0;31mIndexError\u001b[0m: invalid index to scalar variable."
     ]
    }
   ],
   "source": [
    "#Iterando sobre los datos en cada una de las epocas para actualizar los pesos.\n",
    "for _ in range(epocas):\n",
    "   for i in range(len(x1)):\n",
    "        # Predicción y cálculo del error para el primer conjunto de datos, de aquí se ajustan los pesos segun el error\n",
    "        #Se hacen predicciones para cada uno de los conjuntos de datos\n",
    "        prediccion1 = perceptron(x1[i], pesos, bias)\n",
    "        error1 = valor[i] - prediccion1    #Se calcula el error comparando el verdadero valor del dato con \n",
    "                                            #la predicción\n",
    "        prediccion2 = perceptron(x2[i], pesos, bias)\n",
    "        error2 = valor[i] - prediccion2\n",
    "        \n",
    "        #Aquí se actualizan los pesos y el bias sumandole el producto de learning_rate con el error calculado\n",
    "        #para cada uno de los datos\n",
    "        for j in range(len(pesos)):\n",
    "            pesos[j] += learning_rate * (error1 * x1[i][j] + error2 * x2[i][j])\n",
    "        bias += learning_rate * (error1 + error2) #actualizando el bias"
   ]
  },
  {
   "cell_type": "code",
   "execution_count": 12,
   "id": "f4d9d58c-cb46-43bc-a35e-4ae3d8cf6452",
   "metadata": {},
   "outputs": [
    {
     "name": "stdout",
     "output_type": "stream",
     "text": [
      "Pesos finales: [0.0, 0.0]\n",
      "b: 0\n"
     ]
    }
   ],
   "source": [
    "#Resultado de los pesos y el bias\n",
    "print(\"Pesos finales:\", pesos)\n",
    "print(\"b:\", bias)"
   ]
  },
  {
   "cell_type": "code",
   "execution_count": 15,
   "id": "d948d19e-4372-4c9d-b1ba-0e12aab312a2",
   "metadata": {},
   "outputs": [
    {
     "name": "stderr",
     "output_type": "stream",
     "text": [
      "/var/folders/xy/h39hc5k93gsf7qcm_6602k100000gn/T/ipykernel_50859/4202575563.py:16: RuntimeWarning: invalid value encountered in true_divide\n",
      "  valor_values = (bias + pesos[0] * x_values) / pesos[1]\n"
     ]
    },
    {
     "data": {
      "image/png": "[encoded data removed]",
      "text/plain": [
       "<Figure size 432x288 with 1 Axes>"
      ]
     },
     "metadata": {
      "needs_background": "light"
     },
     "output_type": "display_data"
    }
   ],
   "source": [
    "#Pesos y bias resultantes del entrenamiento del perceptrón\n",
    "pesos = [0.0, 0.0]  # Los pesos pueden variar dependiendo del entrenamiento\n",
    "bias = 0  # El sesgo puede variar dependiendo del entrenamiento\n",
    "\n",
    "#Función de predicción\n",
    "def perceptron(X):\n",
    "    z = bias + np.dot(X, pesos)\n",
    "    return np.where(z >= 0, 1, 0)\n",
    "\n",
    "# Graficar los datos \n",
    "plt.scatter(x1[0], x1[1], color='blue', label=\"Datos x1\")\n",
    "plt.scatter(x2[0], x2[1], color='red', label=\"Datos x2\")\n",
    "\n",
    "# Graficar el hiperplano \n",
    "x_values = np.linspace(0, 1, 100)\n",
    "valor_values = (bias + pesos[0] * x_values) / pesos[1]\n",
    "plt.plot(x_values, valor_values, color='green', linestyle='-', label='Hiperplano')\n",
    "\n",
    "plt.title(\"Hiperplano del Perceptrón\")\n",
    "plt.legend()\n",
    "plt.grid(True)\n",
    "plt.show()"
   ]
  },
  {
   "cell_type": "code",
   "execution_count": 16,
   "id": "c93f2b57-4e9d-4aba-9dbb-e6ca22d3b414",
   "metadata": {},
   "outputs": [
    {
     "name": "stdout",
     "output_type": "stream",
     "text": [
      "Ecuación del hiperplano:\n",
      "-0.0*x1 + -0.0*x2 + (0) = 0\n"
     ]
    }
   ],
   "source": [
    "#Imprimir la ecuación del hiperplano\n",
    "print(\"Ecuación del hiperplano:\")\n",
    "print(f\"{-pesos[0]}*x1 + {-pesos[1]}*x2 + ({-bias}) = 0\")"
   ]
  },
  {
   "cell_type": "markdown",
   "id": "380acc51-fa08-4341-855e-678836a07349",
   "metadata": {},
   "source": [
    "La ecuacion de la recta del hiperplano es\n",
    "x1w1 + x2w2 + b = 0\n",
    "\n",
    "Para obtener la ecuacion de la recta despejamos un dato para dejarlo en términos de lo otro:\n",
    "x2 = -x1w1/w2 - b/w2\n",
    "\n",
    "Entonces la ecuacion de la recta es y = mx + a\n",
    "\n",
    "De aquí los coeficientes m y a:\n",
    "    m = w1/w2\n",
    "    a = b/w2"
   ]
  },
  {
   "cell_type": "code",
   "execution_count": 17,
   "id": "1d6f5bd2-ff97-4717-a8ad-c3d37c858dcf",
   "metadata": {},
   "outputs": [
    {
     "ename": "ZeroDivisionError",
     "evalue": "float division by zero",
     "output_type": "error",
     "traceback": [
      "\u001b[0;31m---------------------------------------------------------------------------\u001b[0m",
      "\u001b[0;31mZeroDivisionError\u001b[0m                         Traceback (most recent call last)",
      "Input \u001b[0;32mIn [17]\u001b[0m, in \u001b[0;36m<cell line: 2>\u001b[0;34m()\u001b[0m\n\u001b[1;32m      1\u001b[0m \u001b[38;5;66;03m# Calcular los coeficientes de la ecuación de la recta\u001b[39;00m\n\u001b[0;32m----> 2\u001b[0m m \u001b[38;5;241m=\u001b[39m \u001b[43mpesos\u001b[49m\u001b[43m[\u001b[49m\u001b[38;5;241;43m0\u001b[39;49m\u001b[43m]\u001b[49m\u001b[43m \u001b[49m\u001b[38;5;241;43m/\u001b[39;49m\u001b[43m \u001b[49m\u001b[43mpesos\u001b[49m\u001b[43m[\u001b[49m\u001b[38;5;241;43m1\u001b[39;49m\u001b[43m]\u001b[49m\n\u001b[1;32m      3\u001b[0m a \u001b[38;5;241m=\u001b[39m bias \u001b[38;5;241m/\u001b[39m pesos[\u001b[38;5;241m1\u001b[39m]\n\u001b[1;32m      5\u001b[0m \u001b[38;5;66;03m# Imprimir la ecuación de la recta\u001b[39;00m\n",
      "\u001b[0;31mZeroDivisionError\u001b[0m: float division by zero"
     ]
    }
   ],
   "source": [
    "# Calcular los coeficientes de la ecuación de la recta\n",
    "m = pesos[0] / pesos[1]\n",
    "a = bias / pesos[1]\n",
    "\n",
    "# Imprimir la ecuación de la recta\n",
    "print(\"Ecuación de la recta:\")\n",
    "print(f\"y = {m} * x + {a}\")"
   ]
  },
  {
   "cell_type": "markdown",
   "id": "f42b5db2-f939-4d72-8235-490b33817d10",
   "metadata": {},
   "source": [
    "Comparando con mi ecuación de la recta que calculé analíticamente:\n",
    "  y = (6/7)x + 39/350\n",
    "  \n",
    "Donde m = 6/7 ~ 0.8571 y b = 39/350 ~ 0.1114   "
   ]
  },
  {
   "cell_type": "code",
   "execution_count": null,
   "id": "df810f4d-f794-43a8-b1c9-083c0121046a",
   "metadata": {},
   "outputs": [],
   "source": []
  }
 ],
 "metadata": {
  "kernelspec": {
   "display_name": "Python 3 (ipykernel)",
   "language": "python",
   "name": "python3"
  },
  "language_info": {
   "codemirror_mode": {
    "name": "ipython",
    "version": 3
   },
   "file_extension": ".py",
   "mimetype": "text/x-python",
   "name": "python",
   "nbconvert_exporter": "python",
   "pygments_lexer": "ipython3",
   "version": "3.9.7"
  }
 },
 "nbformat": 4,
 "nbformat_minor": 5
}
