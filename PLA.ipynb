{
 "cells": [
  {
   "cell_type": "code",
   "execution_count": 1,
   "id": "71027375-f345-43ae-9d51-4569be15563c",
   "metadata": {},
   "outputs": [],
   "source": [
    "import matplotlib.pyplot as plt\n",
    "import numpy as np\n",
    "import pandas as pd"
   ]
  },
  {
   "cell_type": "code",
   "execution_count": 2,
   "id": "5eea97bc-26b0-43e9-8fc0-ccfbf58d6492",
   "metadata": {},
   "outputs": [
    {
     "name": "stdout",
     "output_type": "stream",
     "text": [
      "     X1    X1    X2    X2  Valor\n",
      "0  2.10  3.12  8.21  9.23      1\n",
      "1  1.95  3.01  8.00  9.67      1\n",
      "2  2.04  2.99  8.03  9.00     -1\n",
      "3  2.21  2.98  8.50  8.99      1\n",
      "4  2.12  3.00  8.34  9.50      1\n",
      "5  2.18  3.32  8.98  9.79     -1\n"
     ]
    }
   ],
   "source": [
    "dat=open(\"/Users/karytzamontiel/Documents/Maestria UNAM/Machine Learning/Perceptron/datos.txt\")\n",
    "#datos=pd.read_csv(dat,header=None,sep=\"\\s+\")\n",
    "df=pd.read_csv(dat,sep=\"\\s+\")\n",
    "df.columns =[\"X1\", \"X1\", \"X2\",\"X2\", \"Valor\"]\n",
    "print(df)"
   ]
  },
  {
   "cell_type": "code",
   "execution_count": 3,
   "id": "975f09c2-1433-4ac3-9f43-31ab7ec6ccfb",
   "metadata": {},
   "outputs": [
    {
     "name": "stdout",
     "output_type": "stream",
     "text": [
      "[[2.1  3.12]\n",
      " [1.95 3.01]\n",
      " [2.04 2.99]\n",
      " [2.21 2.98]\n",
      " [2.12 3.  ]\n",
      " [2.18 3.32]]\n",
      "[[8.21 9.23]\n",
      " [8.   9.67]\n",
      " [8.03 9.  ]\n",
      " [8.5  8.99]\n",
      " [8.34 9.5 ]\n",
      " [8.98 9.79]]\n",
      "[ 1  1 -1  1  1 -1]\n"
     ]
    }
   ],
   "source": [
    "#Convirtiendo cada columna del dataframe en array\n",
    "x1=np.array (df[\"X1\"])\n",
    "x2=np.array (df[\"X2\"])\n",
    "valor=np.array(df[\"Valor\"]) \n",
    "print(x1)\n",
    "print(x2)\n",
    "print(valor)"
   ]
  },
  {
   "cell_type": "code",
   "execution_count": 4,
   "id": "6c5a73f3-3621-497c-a2e5-84e9793093da",
   "metadata": {},
   "outputs": [
    {
     "name": "stdout",
     "output_type": "stream",
     "text": [
      "[[0.23030747 0.34217109]\n",
      " [0.21385693 0.33010737]\n",
      " [0.22372725 0.32791396]\n",
      " [0.24237119 0.32681726]\n",
      " [0.23250087 0.32901067]\n",
      " [0.23908108 0.36410514]]\n",
      "[[0.26707881 0.30026034]\n",
      " [0.26024732 0.31457395]\n",
      " [0.26122324 0.29277823]\n",
      " [0.27651277 0.29245292]\n",
      " [0.27130783 0.30904369]\n",
      " [0.29212761 0.31847765]]\n"
     ]
    }
   ],
   "source": [
    "#normalizando datos\n",
    "normalized_x1 = x1 / np.linalg.norm(x1)\n",
    "normalized_x2 = x2 / np.linalg.norm(x2)\n",
    "#normalized_valor = valor / np.linalg.norm(valor)\n",
    "\n",
    "\n",
    "print(normalized_x1)\n",
    "print(normalized_x2)\n",
    "#print(normalized_valor)\n"
   ]
  },
  {
   "cell_type": "code",
   "execution_count": 5,
   "id": "f40ddcb6-89d0-4701-8008-15ef7ea94d07",
   "metadata": {},
   "outputs": [
    {
     "data": {
      "image/png": "[encoded data removed]",
      "text/plain": [
       "<Figure size 432x288 with 1 Axes>"
      ]
     },
     "metadata": {
      "needs_background": "light"
     },
     "output_type": "display_data"
    }
   ],
   "source": [
    "fig, ax = plt.subplots()\n",
    "#scatter grafica un diagrama de puntos\n",
    "#ax.scatter([x1],[x2])\n",
    "#ax.scatter([x2],[x2])\n",
    "\n",
    "plt.scatter(normalized_x1[:, 0], normalized_x1[:, 1], color='blue', label=\"Datos x1\")\n",
    "plt.scatter(normalized_x2[:, 0], normalized_x2[:, 1], color='red', label=\"Datos x2\")\n",
    "plt.title('Conjunto de datos linealmente separables')\n",
    "plt.legend()\n",
    "plt.show()"
   ]
  },
  {
   "cell_type": "markdown",
   "id": "8ae72750-34c7-4e89-b0f6-9284e01d38e2",
   "metadata": {},
   "source": [
    "Ecuación de la recta que divide ambos conjuntos de datos:\n",
    "\n",
    "Utilicé los puntos (2.00, 5.5) y (5.0, 3.0)\n",
    "Al calcular analiticamente la ecuación se obtuvo:\n",
    "\n",
    "             y = -(1.75/1.2)x + 43/6\n",
    "    \n",
    "Donde     m = -5/6 ~ -0.8333  y b = 43/6 ~ 7.1666"
   ]
  },
  {
   "cell_type": "code",
   "execution_count": 6,
   "id": "e87e2fa1-7645-4221-9c78-b70e32772388",
   "metadata": {},
   "outputs": [],
   "source": [
    "#Empezamos con un número aleatorio en cero\n",
    "\n",
    "#np.random.seed(0)"
   ]
  },
  {
   "cell_type": "code",
   "execution_count": 7,
   "id": "2ae90cbb-9bdb-4302-9e02-6890047005cd",
   "metadata": {},
   "outputs": [],
   "source": [
    "#Definimos los pesos, cuyos parámetros es la cantidad de datos que tenemos\n",
    "\n",
    "#pesos = np.random.randn(x1.shape[1], x2.shape[1])\n",
    "\n",
    "pesos = [0.00, 0.00]"
   ]
  },
  {
   "cell_type": "code",
   "execution_count": 8,
   "id": "2da1efe1-7ead-44af-866c-1c71caa822a1",
   "metadata": {},
   "outputs": [],
   "source": [
    "#Definimos el bias igual a cero\n",
    "\n",
    "bias = 0"
   ]
  },
  {
   "cell_type": "code",
   "execution_count": 9,
   "id": "680f06ef-946e-4925-9264-6405dd8a82ef",
   "metadata": {},
   "outputs": [],
   "source": [
    "#Definimos la función escalón:\n",
    "    #regresa 1 si la entrada es mayor o igual a 0\n",
    "    #regresa 0 en cualquier otro caso\n",
    "\n",
    "def activacion_fn(x):\n",
    "    return 1 if x >= 0 else 0"
   ]
  },
  {
   "cell_type": "markdown",
   "id": "d4087d8a-07ab-4350-8528-9d02daa38d1d",
   "metadata": {},
   "source": [
    "Definimos otra función correspondiente al perceptron:\n",
    "\n",
    "x1w1 + x2w2 + bw0 = ?"
   ]
  },
  {
   "cell_type": "code",
   "execution_count": 10,
   "id": "2d4530dc-094b-4f54-96d9-047def1688a0",
   "metadata": {},
   "outputs": [],
   "source": [
    "#Definimos la función\n",
    "\n",
    "def perceptron(X, pesos, bias):\n",
    "    suma = bias\n",
    "    #suma = np.dot(x1, x2, pesos) + bias #se calcula la suma como los datos de entrada con los pesos y se le suma b\n",
    "    #return np.array([activacion_fn(x) for x in suma]) #se aplica la función escalón definida anteriormente\n",
    "    for i in range(len(pesos)):\n",
    "        suma += X[i] * pesos[i]\n",
    "    return activacion_fn(suma)\n",
    "    "
   ]
  },
  {
   "cell_type": "code",
   "execution_count": 11,
   "id": "ca25cacb-65dd-4670-96bd-f49f05a6e15e",
   "metadata": {},
   "outputs": [],
   "source": [
    "#Definimos las épocas\n",
    "epocas = 100\n",
    "\n",
    "#Definimos la magnitud con la que ajustará los pesos\n",
    "learning_rate = 0.1"
   ]
  },
  {
   "cell_type": "code",
   "execution_count": 12,
   "id": "6065046b-2fd5-4eb2-b297-49a1bfb190fa",
   "metadata": {},
   "outputs": [],
   "source": [
    "for _ in range(epocas):\n",
    "   for i in range(len(normalized_x1)):\n",
    "        # Predicción y cálculo del error\n",
    "        prediction1 = perceptron(normalized_x1[i], pesos, bias)\n",
    "        error1 = valor[i] - prediction1\n",
    "        prediction2 = perceptron(normalized_x2[i], pesos, bias)\n",
    "        error2 = valor[i] - prediction2\n",
    "        \n",
    "        # Actualización de pesos y sesgo\n",
    "        for j in range(len(pesos)):\n",
    "            pesos[j] += learning_rate * (error1 * normalized_x1[i][j] + error2 * normalized_x2[i][j])\n",
    "        bias += learning_rate * (error1 + error2)"
   ]
  },
  {
   "cell_type": "code",
   "execution_count": 13,
   "id": "f4d9d58c-cb46-43bc-a35e-4ae3d8cf6452",
   "metadata": {},
   "outputs": [
    {
     "name": "stdout",
     "output_type": "stream",
     "text": [
      "Pesos finales: [-0.4060978999610414, -0.6513584104053312]\n",
      "Sesgo final: -0.10000000000000003\n"
     ]
    }
   ],
   "source": [
    "# Resultado final\n",
    "print(\"Pesos finales:\", pesos)\n",
    "print(\"Sesgo final:\", bias)"
   ]
  },
  {
   "cell_type": "code",
   "execution_count": 14,
   "id": "d948d19e-4372-4c9d-b1ba-0e12aab312a2",
   "metadata": {},
   "outputs": [
    {
     "data": {
      "image/png": "[encoded data removed]",
      "text/plain": [
       "<Figure size 432x288 with 1 Axes>"
      ]
     },
     "metadata": {
      "needs_background": "light"
     },
     "output_type": "display_data"
    }
   ],
   "source": [
    "# Pesos y sesgo resultantes del entrenamiento del perceptrón\n",
    "pesos = [-0.4060978999610414, -0.6513584104053312]  # Los pesos pueden variar dependiendo del entrenamiento\n",
    "bias = -0.10000000000000003  # El sesgo puede variar dependiendo del entrenamiento\n",
    "\n",
    "# Función de predicción\n",
    "def perceptron(X):\n",
    "    z = bias + np.dot(X, pesos)\n",
    "    return np.where(z >= 0, 1, 0)\n",
    "\n",
    "# Graficar los datos de ejemplo\n",
    "plt.scatter(normalized_x1[:, 0], normalized_x1[:, 1], color='blue', label=\"Datos normalizados x1\")\n",
    "plt.scatter(normalized_x2[:, 0], normalized_x2[:, 1], color='red', label=\"Datos normalizados x2\")\n",
    "\n",
    "# Graficar el hiperplano resultante\n",
    "x_values = np.linspace(0, 1, 100)\n",
    "valor_values = (bias + pesos[0] * x_values) / pesos[1]\n",
    "plt.plot(x_values, valor_values, color='green', linestyle='-', label='Hiperplano')\n",
    "\n",
    "plt.title(\"Hiperplano del Perceptrón\")\n",
    "plt.legend()\n",
    "plt.grid(True)\n",
    "plt.show()"
   ]
  },
  {
   "cell_type": "code",
   "execution_count": null,
   "id": "c93f2b57-4e9d-4aba-9dbb-e6ca22d3b414",
   "metadata": {},
   "outputs": [],
   "source": []
  }
 ],
 "metadata": {
  "kernelspec": {
   "display_name": "Python 3 (ipykernel)",
   "language": "python",
   "name": "python3"
  },
  "language_info": {
   "codemirror_mode": {
    "name": "ipython",
    "version": 3
   },
   "file_extension": ".py",
   "mimetype": "text/x-python",
   "name": "python",
   "nbconvert_exporter": "python",
   "pygments_lexer": "ipython3",
   "version": "3.9.7"
  }
 },
 "nbformat": 4,
 "nbformat_minor": 5
}
