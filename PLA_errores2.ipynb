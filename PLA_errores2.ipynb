{
 "cells": [
  {
   "cell_type": "code",
   "execution_count": 1,
   "id": "653b6a3b-76fb-47c9-afb0-b6b95afef12a",
   "metadata": {},
   "outputs": [],
   "source": [
    "#Importando librerías\n",
    "import matplotlib.pyplot as plt\n",
    "import numpy as np\n",
    "import pandas as pd\n",
    "import random"
   ]
  },
  {
   "cell_type": "code",
   "execution_count": 2,
   "id": "716b69fc-847d-46d7-93ee-60e3742b6ec9",
   "metadata": {},
   "outputs": [
    {
     "name": "stdout",
     "output_type": "stream",
     "text": [
      "      X1    X2  Valor\n",
      "0   2.10  3.12     -1\n",
      "1   1.95  3.01     -1\n",
      "2   2.04  2.99     -1\n",
      "3   2.21  2.98     -1\n",
      "4   2.12  3.00     -1\n",
      "5   2.18  3.32     -1\n",
      "6   2.15  3.02     -1\n",
      "7   2.45  3.06     -1\n",
      "8   2.34  3.39     -1\n",
      "9   2.51  3.21     -1\n",
      "10  8.21  9.23      1\n",
      "11  8.00  9.67      1\n",
      "12  8.03  9.00      1\n",
      "13  8.50  8.99      1\n",
      "14  8.34  9.50      1\n",
      "15  8.98  9.79      1\n",
      "16  8.04  9.73      1\n",
      "17  8.29  9.02      1\n",
      "18  8.07  9.45      1\n",
      "19  8.42  9.08      1\n"
     ]
    }
   ],
   "source": [
    "#Abriendo mi archivo de datos\n",
    "dat=open(\"/Users/karytzamontiel/Documents/Maestria UNAM/Machine Learning/Perceptron/datos.txt\")\n",
    "df=pd.read_csv(dat,sep=\"\\s+\")\n",
    "df.columns =[\"X1\",\"X2\", \"Valor\"]\n",
    "print(df)"
   ]
  },
  {
   "cell_type": "code",
   "execution_count": 3,
   "id": "db3c82fc-d756-44b3-8d5d-f7e07598821c",
   "metadata": {},
   "outputs": [
    {
     "name": "stdout",
     "output_type": "stream",
     "text": [
      "      X1    X2  Valor\n",
      "0   2.10  3.12     -1\n",
      "1   1.95  3.01     -1\n",
      "2   2.04  2.99     -1\n",
      "3   2.21  2.98     -1\n",
      "4   2.12  3.00     -1\n",
      "5   2.18  3.32     -1\n",
      "6   2.15  3.02     -1\n",
      "7   2.45  3.06     -1\n",
      "8   2.34  3.39     -1\n",
      "9   2.51  3.21     -1\n",
      "10  8.21  9.23      1\n",
      "11  8.00  9.67      1\n",
      "12  8.03  9.00      1\n"
     ]
    }
   ],
   "source": [
    "intf = df.iloc[0:13]\n",
    "print(intf)"
   ]
  },
  {
   "cell_type": "code",
   "execution_count": 4,
   "id": "00c14fab-cb20-42ae-9676-ad93d6cfa6eb",
   "metadata": {},
   "outputs": [
    {
     "name": "stdout",
     "output_type": "stream",
     "text": [
      "      X1    X2  Valor\n",
      "7   2.45  3.06     -1\n",
      "8   2.34  3.39     -1\n",
      "9   2.51  3.21     -1\n",
      "10  8.21  9.23      1\n",
      "11  8.00  9.67      1\n",
      "12  8.03  9.00      1\n",
      "13  8.50  8.99      1\n",
      "14  8.34  9.50      1\n",
      "15  8.98  9.79      1\n",
      "16  8.04  9.73      1\n",
      "17  8.29  9.02      1\n",
      "18  8.07  9.45      1\n",
      "19  8.42  9.08      1\n"
     ]
    }
   ],
   "source": [
    "#datos sin usar\n",
    "intf1 = df.iloc[7:20]\n",
    "print(intf1)"
   ]
  },
  {
   "cell_type": "code",
   "execution_count": 5,
   "id": "1671584a-a5c1-4e97-9baa-cd6e2c0fe520",
   "metadata": {},
   "outputs": [
    {
     "name": "stdout",
     "output_type": "stream",
     "text": [
      "[2.1  1.95 2.04 2.21 2.12 2.18 2.15 2.45 2.34 2.51 8.21 8.   8.03]\n",
      "[3.12 3.01 2.99 2.98 3.   3.32 3.02 3.06 3.39 3.21 9.23 9.67 9.  ]\n",
      "[-1 -1 -1 -1 -1 -1 -1 -1 -1 -1  1  1  1]\n"
     ]
    }
   ],
   "source": [
    "#Convirtiendo cada columna del dataframe en array\n",
    "x1=np.array (intf[\"X1\"])\n",
    "x2=np.array (intf[\"X2\"])\n",
    "valor=np.array(intf[\"Valor\"]) \n",
    "#valor2=np.array(intf[\"Valor2\"])\n",
    "#sin_usar=np.array(intf1[\"X1\"])\n",
    "print(x1)\n",
    "print(x2)\n",
    "print(valor)\n",
    "#print(sin_usar)"
   ]
  },
  {
   "cell_type": "code",
   "execution_count": 6,
   "id": "6617b8ea-277b-4e33-8aa2-830773a48d94",
   "metadata": {},
   "outputs": [
    {
     "name": "stdout",
     "output_type": "stream",
     "text": [
      "[2.45 2.34 2.51 8.21 8.   8.03 8.5  8.34 8.98 8.04 8.29 8.07 8.42]\n",
      "[3.06 3.39 3.21 9.23 9.67 9.   8.99 9.5  9.79 9.73 9.02 9.45 9.08]\n",
      "[-1 -1 -1 -1 -1 -1 -1 -1 -1 -1  1  1  1]\n"
     ]
    }
   ],
   "source": [
    "x_1=np.array (intf1[\"X1\"])\n",
    "x_2=np.array (intf1[\"X2\"])\n",
    "valor1=np.array(intf[\"Valor\"])\n",
    "\n",
    "print(x_1)\n",
    "print(x_2)\n",
    "print(valor1)"
   ]
  },
  {
   "cell_type": "code",
   "execution_count": 7,
   "id": "dcff4e51-0585-4444-842e-b9d74bedb8c8",
   "metadata": {},
   "outputs": [],
   "source": [
    "#normalizando datos\n",
    "#normalized_x1 = x1 / np.linalg.norm(x1)\n",
    "#normalized_x2 = x2 / np.linalg.norm(x2)\n",
    "#normalized_x = x1 / np.linalg.norm(sin_usar)\n",
    "\n",
    "#normalized_valor = valor / np.linalg.norm(valor)\n",
    "\n",
    "\n",
    "#print(normalized_x1)\n",
    "#print(normalized_x2)\n",
    "#print(normalized_x)\n",
    "#print(normalized_valor)\n"
   ]
  },
  {
   "cell_type": "code",
   "execution_count": 8,
   "id": "541ae985-293f-4e9f-aedd-15d441dbf074",
   "metadata": {},
   "outputs": [],
   "source": [
    "# Combina los datos y las etiquetas en una lista\n",
    "data = list(zip(x1, x2, x_1, x_2, valor, valor1))\n",
    "\n",
    "# Mezcla los datos de forma aleatoria\n",
    "random.shuffle(data)\n",
    "\n",
    "# Separa los datos\n",
    "#ahora \"normalized_x1_shuffled\" son los datos seleccionados de manera aleatoria para los datos de x1\n",
    "#ahora \"normalized_x2_shuffled\" son los datos seleccionados de manera aleatoria para los datos de x2\n",
    "    #con estos nuevos datos se entrenará el perceptron\n",
    "x1_shuffled, x2_shuffled, valor_shuffled, x_1_shuffled, x_2_shuffled, valor1_shuffled = zip(*data)"
   ]
  },
  {
   "cell_type": "code",
   "execution_count": 9,
   "id": "bb526d95-f6b5-4bd5-8d04-eea83caa2077",
   "metadata": {},
   "outputs": [
    {
     "name": "stdout",
     "output_type": "stream",
     "text": [
      "<class 'numpy.ndarray'>\n",
      "<class 'tuple'>\n"
     ]
    }
   ],
   "source": [
    "print(type(x1))\n",
    "print(type(x1_shuffled))"
   ]
  },
  {
   "cell_type": "code",
   "execution_count": 10,
   "id": "d9f329ca-1850-47dd-b191-ee2a783d68da",
   "metadata": {},
   "outputs": [
    {
     "name": "stdout",
     "output_type": "stream",
     "text": [
      "<class 'numpy.ndarray'>\n",
      "<class 'numpy.ndarray'>\n",
      "<class 'numpy.ndarray'>\n",
      "<class 'numpy.ndarray'>\n"
     ]
    }
   ],
   "source": [
    "x1_shuffled = np.asarray(x1) \n",
    "x2_shuffled = np.asarray(x2)\n",
    "\n",
    "x_1_shuffled = np.asarray(x_1) \n",
    "x_2_shuffled = np.asarray(x_2)\n",
    "\n",
    "\n",
    "print(type(x1_shuffled))\n",
    "print(type(x2_shuffled))\n",
    "print(type(x_1_shuffled))\n",
    "print(type(x_2_shuffled))"
   ]
  },
  {
   "cell_type": "code",
   "execution_count": 11,
   "id": "5b9c0085-5750-4e9a-a76d-fcf6d8029d12",
   "metadata": {},
   "outputs": [
    {
     "data": {
      "image/png": "[encoded data removed]",
      "text/plain": [
       "<Figure size 432x288 with 1 Axes>"
      ]
     },
     "metadata": {
      "needs_background": "light"
     },
     "output_type": "display_data"
    }
   ],
   "source": [
    "fig, ax = plt.subplots()\n",
    "\n",
    "#scatter grafica un diagrama de puntos\n",
    "\n",
    "#plt.scatter(x1_shuffled[:, 0], x2_shuffled[:,1], color='blue', label=\"Datos x1\")\n",
    "            #,x1[:,1], color='blue', label=\"Datos x1\") \n",
    "\n",
    "plt.scatter(x1_shuffled, x2_shuffled, color=\"blue\", label='Datos x1')\n",
    "plt.scatter(x_1_shuffled, x_2_shuffled, color=\"red\", label='Datos x2')\n",
    "#plt.scatter(x2_shuffled, color=\"red\", label='Datos x2')\n",
    "    \n",
    "#plt.scatter(x2_shuffled[:,0], x2_shuffled[:,1], color='red', label=\"Datos x2\")\n",
    "            #,x2[:,1], color='red', label=\"Datos x2\")\n",
    "plt.title('Conjunto de datos linealmente separables')\n",
    "plt.legend()\n",
    "plt.show()"
   ]
  },
  {
   "cell_type": "code",
   "execution_count": 12,
   "id": "a0980f7f-0983-4d11-b320-4f2116e1cbd2",
   "metadata": {},
   "outputs": [],
   "source": [
    "#Definimos los pesos en cero\n",
    "\n",
    "pesos = [0.00, 0.00]"
   ]
  },
  {
   "cell_type": "code",
   "execution_count": 13,
   "id": "c91a6bf1-baa3-467c-be8a-14829eb85190",
   "metadata": {},
   "outputs": [],
   "source": [
    "#Definimos el bias igual a cero\n",
    "\n",
    "bias = 0"
   ]
  },
  {
   "cell_type": "code",
   "execution_count": 14,
   "id": "d9c7e03c-2631-4ee3-b550-052106b42ba9",
   "metadata": {},
   "outputs": [],
   "source": [
    "#Definimos la función escalón:\n",
    "    #regresa 1 si la entrada es mayor o igual a 0\n",
    "    #regresa 0 en cualquier otro caso\n",
    "\n",
    "def activacion_fn(x):\n",
    "    return 1 if x >= 0 else -1"
   ]
  },
  {
   "cell_type": "code",
   "execution_count": 15,
   "id": "b224aa2f-4c45-423d-b9a6-4c25867a1c84",
   "metadata": {},
   "outputs": [],
   "source": [
    "#Definimos la función que toma los datos, los pesos, el bias y utilizando la función de activación anteriormente\n",
    "#definida, para dar una predicción de que tipo de dato es.\n",
    "\n",
    "def perceptron(X, pesos, bias):\n",
    "    suma = bias \n",
    "    for i in range(len(pesos)):\n",
    "        suma += X[i] * pesos[i] #Aquí se calcula el producto de cada dato por el peso y se suma el bias\n",
    "    return activacion_fn(suma) #La función de activación determinará el tipo de dato\n",
    "                                #segun el valor de la variable \"suma\". Si \"suma\" es mayor o igual a cero, \n",
    "                                #la función de activación devolverá 1. De lo contrario, va a devolver 0, \n",
    "                                #lo que significa que pertenece a una clase negativa o -1.\n",
    "    "
   ]
  },
  {
   "cell_type": "code",
   "execution_count": 16,
   "id": "7f4ff55d-57ab-4ede-8c9c-e7e56d3911f3",
   "metadata": {},
   "outputs": [],
   "source": [
    "#Definimos las épocas\n",
    "epocas = 100\n",
    "\n",
    "#Definimos la magnitud con la que ajustará los pesos\n",
    "learning_rate = 0.1"
   ]
  },
  {
   "cell_type": "code",
   "execution_count": 17,
   "id": "da658912-f303-4832-b17b-4a46b8094a83",
   "metadata": {},
   "outputs": [],
   "source": [
    "#error_salida=[]\n",
    "\n",
    "#def calcular_error_prueba(x_1_shuffled, pesos, bias, valor1):\n",
    "#    e_out = 0  # Inicializamos el contador de errores de prueba.\n",
    "    \n",
    "#    for i in range(len(x_1_shuffled)):\n",
    "#        prediccion = perceptron([x_1_shuffled[i],x_2_shuffled[1]], pesos, bias)  # Se realiza una predicción para el dato de prueba.\n",
    "#        if prediccion != valor1[i]:  # Se compara la predicción con el valor esperado.\n",
    "#            e_out += 1  # Si la predicción es incorrecta, se incrementa el contador de errores.\n",
    "    \n",
    "#    return e_out\n",
    "\n",
    "\n",
    "#e_out = calcular_error_prueba(x_1_shuffled, pesos, bias, valor1) \n",
    "#print(e_out)\n",
    "#error_salida.append(e_out)"
   ]
  },
  {
   "cell_type": "code",
   "execution_count": 18,
   "id": "e5e2d5fc-3bac-4c43-a43d-d7ecdc7e51ff",
   "metadata": {},
   "outputs": [
    {
     "data": {
      "image/png": "[encoded data removed]",
      "text/plain": [
       "<Figure size 432x288 with 1 Axes>"
      ]
     },
     "metadata": {
      "needs_background": "light"
     },
     "output_type": "display_data"
    }
   ],
   "source": [
    "#bias=0\n",
    "#pesos=[0.00,0.00]\n",
    "\n",
    "error_entrada = []\n",
    "error_salida = []\n",
    "\n",
    "#Iterando sobre los datos en cada una de las epocas para actualizar los pesos.\n",
    "for _ in range(epocas):\n",
    "    \n",
    "    e_in = 0\n",
    "    #e_out = 0\n",
    "    \n",
    "    for i in range(len(x1_shuffled)):\n",
    "        # Predicción y cálculo del error para el primer conjunto de datos, de aquí se ajustan los pesos segun el error\n",
    "        #Se hacen predicciones para cada uno de los conjuntos de datos\n",
    "        prediccion = perceptron([x1_shuffled[i],x2_shuffled[i]], pesos, bias) #calcular salida\n",
    "        error = valor[i] - prediccion    #Se calcula el error comparando el verdadero valor del dato con \n",
    "                                            #la predicción\n",
    "        \n",
    "        if prediccion != valor[i]: \n",
    "            \n",
    "        #prediccion2 = perceptron(normalized_x2_shuffled[i], pesos, bias)\n",
    "        #error2 = valor[i] - prediccion2\n",
    "        \n",
    "        #Aquí se actualizan los pesos y el bias sumandole el producto de learning_rate con el error calculado\n",
    "        #para cada uno de los datos\n",
    "            for j in range(len(pesos)):\n",
    "                 pesos[j] += learning_rate * (error * x1_shuffled[i])\n",
    "            bias += learning_rate * (error) #actualizando el bias\n",
    "            e_in += 1\n",
    "        \n",
    "    #return e_in\n",
    "    \n",
    "    error_entrada.append(e_in)\n",
    "    #print(e_in)\n",
    "\n",
    "    def calcular_error_prueba(x_1_shuffled, pesos, bias, valor1):\n",
    "        e_out = 0  # Inicializamos el contador de errores de prueba.\n",
    "    \n",
    "        for i in range(len(x_1_shuffled)):\n",
    "                prediccion1 = perceptron([x_1_shuffled[i],x_2_shuffled[i]], pesos, bias)  # Se realiza una predicción para el dato de prueba.\n",
    "                if prediccion1 != valor1[i]:  # Se compara la predicción con el valor esperado.\n",
    "                    e_out += 1  # Si la predicción es incorrecta, se incrementa el contador de errores.\n",
    "    \n",
    "        return e_out\n",
    "\n",
    "\n",
    "    e_out = calcular_error_prueba(x_1_shuffled, pesos, bias, valor1) \n",
    "    #print(e_out)\n",
    "    error_salida.append(e_out)\n",
    "        \n",
    "#print(error_entrada)\n",
    "#print(error_salida)\n",
    "    \n",
    "#Graficando   \n",
    "plt.plot([i for i in range(epocas)], error_entrada, label='Error de Entrada')\n",
    "plt.plot([i for i in range(epocas)], error_salida, label='Error de Salida')\n",
    "\n",
    "plt.xlabel('Épocas')\n",
    "plt.ylabel('Error')\n",
    "plt.title('Error de entrada y de salida durante el entrenamiento del PLA')\n",
    "plt.legend()\n",
    "plt.grid(True)\n",
    "plt.show()"
   ]
  },
  {
   "cell_type": "code",
   "execution_count": 23,
   "id": "adcf0d51-179c-475f-aa7a-67c9d35a554c",
   "metadata": {},
   "outputs": [
    {
     "name": "stdout",
     "output_type": "stream",
     "text": [
      "Pesos finales: [0.34800000000000164, 0.34800000000000164]\n",
      "b: -2.8000000000000003\n"
     ]
    }
   ],
   "source": [
    "#Resultado de los pesos y el bias\n",
    "print(\"Pesos finales:\", pesos)\n",
    "print(\"b:\", bias)"
   ]
  },
  {
   "cell_type": "code",
   "execution_count": 40,
   "id": "98b0b1f3-d1b4-40d8-bd4e-25a69d9e9c1e",
   "metadata": {},
   "outputs": [
    {
     "data": {
      "image/png": "[encoded data removed]",
      "text/plain": [
       "<Figure size 432x288 with 1 Axes>"
      ]
     },
     "metadata": {
      "needs_background": "light"
     },
     "output_type": "display_data"
    }
   ],
   "source": [
    "## Pesos y bias resultantes del entrenamiento del perceptrón\n",
    "pesos = [0.34800000000000164, 0.34800000000000164]  # Los pesos pueden variar dependiendo del entrenamiento\n",
    "bias =  -2.8000000000000003 # El sesgo puede variar dependiendo del entrenamiento\n",
    "\n",
    "#Función de predicción\n",
    "#def perceptron(X):\n",
    "#    z = bias + np.dot(X, pesos)\n",
    "#    return np.where(z >= 0, 1, 0)\n",
    "\n",
    "# Graficar los datos \n",
    "\n",
    "plt.scatter(x1_shuffled, x2_shuffled, color=\"blue\", label='Datos x1')\n",
    "plt.scatter(x_1_shuffled, x_2_shuffled, color=\"red\", label='Datos x2')\n",
    "\n",
    "#plt.scatter(normalized_x1[:, 0], normalized_x1[:, 1], color='blue', label=\"Datos normalizados x1\")\n",
    "#plt.scatter(normalized_x2[:, 0], normalized_x2[:, 1], color='red', label=\"Datos normalizados x2\")\n",
    "\n",
    "# Graficar el hiperplano \n",
    "x_values = np.linspace(0, 1, 100)\n",
    "valor_values = (bias + pesos[0] * x_values) / pesos[1]\n",
    "plt.plot(x_values, valor_values, color='green', linestyle='-', label='Hiperplano')\n",
    "\n",
    "plt.title(\"Hiperplano del Perceptrón\")\n",
    "plt.legend()\n",
    "plt.grid(True)\n",
    "plt.show()"
   ]
  },
  {
   "cell_type": "code",
   "execution_count": null,
   "id": "0d462e52-6c19-4745-932e-2dd67cdf01ad",
   "metadata": {},
   "outputs": [],
   "source": []
  }
 ],
 "metadata": {
  "kernelspec": {
   "display_name": "Python 3 (ipykernel)",
   "language": "python",
   "name": "python3"
  },
  "language_info": {
   "codemirror_mode": {
    "name": "ipython",
    "version": 3
   },
   "file_extension": ".py",
   "mimetype": "text/x-python",
   "name": "python",
   "nbconvert_exporter": "python",
   "pygments_lexer": "ipython3",
   "version": "3.9.7"
  }
 },
 "nbformat": 4,
 "nbformat_minor": 5
}
